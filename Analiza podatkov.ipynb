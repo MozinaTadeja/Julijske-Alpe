{
 "cells": [
  {
   "cell_type": "markdown",
   "metadata": {},
   "source": [
    "# Julijske Alpe\n",
    "\n",
    "### Projektna naloga pri predmetu Programiranje 1\n",
    "\n",
    "## Uvod\n",
    "Z uporabo knjižnice Pandas bom analizirala hribe iz Julijskih alp iz podatkov pridobljenih na strani https://www.hribi.net/gorovja​ . \n",
    "\n",
    "Za vsako goro je bilo zajeto:\n",
    "- ime\n",
    "- višina\n",
    "- vrsta\n",
    "- število ogledov\n",
    "- mesto priljubljenosti\n",
    "- število slik\n",
    "- število poti\n",
    "- število GPS sledi\n",
    "- število vpisov v vpisni knjigi\n",
    "\n",
    "Podatki so bili zajeti z poberi_strani.py in naredi_json.py, shranjeni pa so v datoteki obdelani-podatki.\n",
    "\n",
    "Hipoteze:\n",
    "- Višji vrhovi so bolj priljubljeni\n",
    "- Najbolj priljubljene gore imajo tudi največje število ogledov\n",
    "- Višji vrhovi imajo večje število poti\n",
    "- Višji vrhovi imajo večje število vpisov\n",
    "- Pod vrsto se največkrat pojavi vrh\n",
    "- Bolj priljubljeni vrhovi imajo več slik\n",
    "- Vrhovi z večjim številom poti imajo več GPS sledi\n",
    "- Vrhovi z večjim številom vpisov imajo tudi večje število slik\n",
    "- Kolikšno je povprečna višina, število ogledov, mesto priljubljenosti, število slik, število poti, število gps sledi in število vpisov v vpisni knjigi v Julijskih Alpah?"
   ]
  },
  {
   "cell_type": "markdown",
   "metadata": {},
   "source": [
    "## Analiza"
   ]
  },
  {
   "cell_type": "code",
   "execution_count": 1,
   "metadata": {},
   "outputs": [],
   "source": [
    "import pandas as pd\n",
    "pd.options.display.max_rows = 10\n",
    "%matplotlib inline"
   ]
  },
  {
   "cell_type": "code",
   "execution_count": 2,
   "metadata": {},
   "outputs": [],
   "source": [
    "import os.path\n",
    "csv_datoteka = os.path.join(\"obdelani-podatki\", \"hribi.csv\")\n",
    "podatki_o_hribih = pd.read_csv(csv_datoteka)"
   ]
  },
  {
   "cell_type": "code",
   "execution_count": 3,
   "metadata": {},
   "outputs": [
    {
     "data": {
      "text/html": [
       "<div>\n",
       "<style scoped>\n",
       "    .dataframe tbody tr th:only-of-type {\n",
       "        vertical-align: middle;\n",
       "    }\n",
       "\n",
       "    .dataframe tbody tr th {\n",
       "        vertical-align: top;\n",
       "    }\n",
       "\n",
       "    .dataframe thead th {\n",
       "        text-align: right;\n",
       "    }\n",
       "</style>\n",
       "<table border=\"1\" class=\"dataframe\">\n",
       "  <thead>\n",
       "    <tr style=\"text-align: right;\">\n",
       "      <th></th>\n",
       "      <th>ime</th>\n",
       "      <th>visina</th>\n",
       "      <th>vrsta</th>\n",
       "      <th>ogledi</th>\n",
       "      <th>mesto_priljubljenosti</th>\n",
       "      <th>stevilo_slik</th>\n",
       "      <th>stevilo_poti</th>\n",
       "      <th>stevilo_gps_sledi</th>\n",
       "      <th>stevilo_vpisov_v_vpisni_knjigi</th>\n",
       "    </tr>\n",
       "  </thead>\n",
       "  <tbody>\n",
       "    <tr>\n",
       "      <th>0</th>\n",
       "      <td>Ablanca</td>\n",
       "      <td>2004</td>\n",
       "      <td>vrh</td>\n",
       "      <td>530758</td>\n",
       "      <td>217</td>\n",
       "      <td>11</td>\n",
       "      <td>9</td>\n",
       "      <td>1</td>\n",
       "      <td>1.0</td>\n",
       "    </tr>\n",
       "    <tr>\n",
       "      <th>1</th>\n",
       "      <td>Adam</td>\n",
       "      <td>2012</td>\n",
       "      <td>vrh</td>\n",
       "      <td>428230</td>\n",
       "      <td>529</td>\n",
       "      <td>1</td>\n",
       "      <td>1</td>\n",
       "      <td>0</td>\n",
       "      <td>1.0</td>\n",
       "    </tr>\n",
       "    <tr>\n",
       "      <th>2</th>\n",
       "      <td>Ajdovski gradec</td>\n",
       "      <td>580</td>\n",
       "      <td>vrh</td>\n",
       "      <td>5890</td>\n",
       "      <td>2066</td>\n",
       "      <td>10</td>\n",
       "      <td>2</td>\n",
       "      <td>0</td>\n",
       "      <td>NaN</td>\n",
       "    </tr>\n",
       "    <tr>\n",
       "      <th>3</th>\n",
       "      <td>Aljažev dom v Vratih</td>\n",
       "      <td>1015</td>\n",
       "      <td>koča, bivak, cerkev</td>\n",
       "      <td>540629</td>\n",
       "      <td>197</td>\n",
       "      <td>11</td>\n",
       "      <td>1</td>\n",
       "      <td>1</td>\n",
       "      <td>3.0</td>\n",
       "    </tr>\n",
       "    <tr>\n",
       "      <th>4</th>\n",
       "      <td>Batognica</td>\n",
       "      <td>2164</td>\n",
       "      <td>vrh</td>\n",
       "      <td>541776</td>\n",
       "      <td>192</td>\n",
       "      <td>6</td>\n",
       "      <td>9</td>\n",
       "      <td>1</td>\n",
       "      <td>6.0</td>\n",
       "    </tr>\n",
       "    <tr>\n",
       "      <th>...</th>\n",
       "      <td>...</td>\n",
       "      <td>...</td>\n",
       "      <td>...</td>\n",
       "      <td>...</td>\n",
       "      <td>...</td>\n",
       "      <td>...</td>\n",
       "      <td>...</td>\n",
       "      <td>...</td>\n",
       "      <td>...</td>\n",
       "    </tr>\n",
       "    <tr>\n",
       "      <th>546</th>\n",
       "      <td>Šplevta</td>\n",
       "      <td>2272</td>\n",
       "      <td>NaN</td>\n",
       "      <td>430321</td>\n",
       "      <td>520</td>\n",
       "      <td>3</td>\n",
       "      <td>2</td>\n",
       "      <td>0</td>\n",
       "      <td>NaN</td>\n",
       "    </tr>\n",
       "    <tr>\n",
       "      <th>547</th>\n",
       "      <td>Žabiški Kuk</td>\n",
       "      <td>1844</td>\n",
       "      <td>vrh</td>\n",
       "      <td>358580</td>\n",
       "      <td>777</td>\n",
       "      <td>20</td>\n",
       "      <td>6</td>\n",
       "      <td>0</td>\n",
       "      <td>NaN</td>\n",
       "    </tr>\n",
       "    <tr>\n",
       "      <th>548</th>\n",
       "      <td>Žerjavec (Kavče)</td>\n",
       "      <td>805</td>\n",
       "      <td>vrh</td>\n",
       "      <td>2043</td>\n",
       "      <td>2267</td>\n",
       "      <td>9</td>\n",
       "      <td>2</td>\n",
       "      <td>0</td>\n",
       "      <td>NaN</td>\n",
       "    </tr>\n",
       "    <tr>\n",
       "      <th>549</th>\n",
       "      <td>Žičnica čez Tolminko</td>\n",
       "      <td>500</td>\n",
       "      <td>NaN</td>\n",
       "      <td>256189</td>\n",
       "      <td>1166</td>\n",
       "      <td>1</td>\n",
       "      <td>1</td>\n",
       "      <td>0</td>\n",
       "      <td>NaN</td>\n",
       "    </tr>\n",
       "    <tr>\n",
       "      <th>550</th>\n",
       "      <td>Žrd / Sart</td>\n",
       "      <td>2324</td>\n",
       "      <td>vrh</td>\n",
       "      <td>390179</td>\n",
       "      <td>663</td>\n",
       "      <td>4</td>\n",
       "      <td>2</td>\n",
       "      <td>0</td>\n",
       "      <td>NaN</td>\n",
       "    </tr>\n",
       "  </tbody>\n",
       "</table>\n",
       "<p>551 rows × 9 columns</p>\n",
       "</div>"
      ],
      "text/plain": [
       "                      ime  visina                vrsta  ogledi  \\\n",
       "0                 Ablanca    2004                  vrh  530758   \n",
       "1                    Adam    2012                  vrh  428230   \n",
       "2         Ajdovski gradec     580                  vrh    5890   \n",
       "3    Aljažev dom v Vratih    1015  koča, bivak, cerkev  540629   \n",
       "4               Batognica    2164                  vrh  541776   \n",
       "..                    ...     ...                  ...     ...   \n",
       "546               Šplevta    2272                  NaN  430321   \n",
       "547           Žabiški Kuk    1844                  vrh  358580   \n",
       "548      Žerjavec (Kavče)     805                  vrh    2043   \n",
       "549  Žičnica čez Tolminko     500                  NaN  256189   \n",
       "550            Žrd / Sart    2324                  vrh  390179   \n",
       "\n",
       "     mesto_priljubljenosti  stevilo_slik  stevilo_poti  stevilo_gps_sledi  \\\n",
       "0                      217            11             9                  1   \n",
       "1                      529             1             1                  0   \n",
       "2                     2066            10             2                  0   \n",
       "3                      197            11             1                  1   \n",
       "4                      192             6             9                  1   \n",
       "..                     ...           ...           ...                ...   \n",
       "546                    520             3             2                  0   \n",
       "547                    777            20             6                  0   \n",
       "548                   2267             9             2                  0   \n",
       "549                   1166             1             1                  0   \n",
       "550                    663             4             2                  0   \n",
       "\n",
       "     stevilo_vpisov_v_vpisni_knjigi  \n",
       "0                               1.0  \n",
       "1                               1.0  \n",
       "2                               NaN  \n",
       "3                               3.0  \n",
       "4                               6.0  \n",
       "..                              ...  \n",
       "546                             NaN  \n",
       "547                             NaN  \n",
       "548                             NaN  \n",
       "549                             NaN  \n",
       "550                             NaN  \n",
       "\n",
       "[551 rows x 9 columns]"
      ]
     },
     "execution_count": 3,
     "metadata": {},
     "output_type": "execute_result"
    }
   ],
   "source": [
    "podatki_o_hribih"
   ]
  },
  {
   "cell_type": "markdown",
   "metadata": {},
   "source": [
    "Številov vpisov v vpisni knjigi je treba popraviti, da bodo števila brez vejice, namesto NaN bo pa 0."
   ]
  },
  {
   "cell_type": "code",
   "execution_count": 4,
   "metadata": {},
   "outputs": [],
   "source": [
    "def popravi_vpise(podatek):\n",
    "    if pd.isna(podatek):\n",
    "        return 0 \n",
    "    else:\n",
    "        return int(podatek)"
   ]
  },
  {
   "cell_type": "code",
   "execution_count": 5,
   "metadata": {},
   "outputs": [],
   "source": [
    "hribi = podatki_o_hribih"
   ]
  },
  {
   "cell_type": "code",
   "execution_count": 6,
   "metadata": {},
   "outputs": [],
   "source": [
    "hribi[\"stevilo_vpisov_v_vpisni_knjigi\"] = hribi[\"stevilo_vpisov_v_vpisni_knjigi\"].apply(popravi_vpise)"
   ]
  },
  {
   "cell_type": "code",
   "execution_count": 7,
   "metadata": {},
   "outputs": [
    {
     "data": {
      "text/html": [
       "<div>\n",
       "<style scoped>\n",
       "    .dataframe tbody tr th:only-of-type {\n",
       "        vertical-align: middle;\n",
       "    }\n",
       "\n",
       "    .dataframe tbody tr th {\n",
       "        vertical-align: top;\n",
       "    }\n",
       "\n",
       "    .dataframe thead th {\n",
       "        text-align: right;\n",
       "    }\n",
       "</style>\n",
       "<table border=\"1\" class=\"dataframe\">\n",
       "  <thead>\n",
       "    <tr style=\"text-align: right;\">\n",
       "      <th></th>\n",
       "      <th>ime</th>\n",
       "      <th>visina</th>\n",
       "      <th>vrsta</th>\n",
       "      <th>ogledi</th>\n",
       "      <th>mesto_priljubljenosti</th>\n",
       "      <th>stevilo_slik</th>\n",
       "      <th>stevilo_poti</th>\n",
       "      <th>stevilo_gps_sledi</th>\n",
       "      <th>stevilo_vpisov_v_vpisni_knjigi</th>\n",
       "    </tr>\n",
       "  </thead>\n",
       "  <tbody>\n",
       "    <tr>\n",
       "      <th>0</th>\n",
       "      <td>Ablanca</td>\n",
       "      <td>2004</td>\n",
       "      <td>vrh</td>\n",
       "      <td>530758</td>\n",
       "      <td>217</td>\n",
       "      <td>11</td>\n",
       "      <td>9</td>\n",
       "      <td>1</td>\n",
       "      <td>1</td>\n",
       "    </tr>\n",
       "    <tr>\n",
       "      <th>1</th>\n",
       "      <td>Adam</td>\n",
       "      <td>2012</td>\n",
       "      <td>vrh</td>\n",
       "      <td>428230</td>\n",
       "      <td>529</td>\n",
       "      <td>1</td>\n",
       "      <td>1</td>\n",
       "      <td>0</td>\n",
       "      <td>1</td>\n",
       "    </tr>\n",
       "    <tr>\n",
       "      <th>2</th>\n",
       "      <td>Ajdovski gradec</td>\n",
       "      <td>580</td>\n",
       "      <td>vrh</td>\n",
       "      <td>5890</td>\n",
       "      <td>2066</td>\n",
       "      <td>10</td>\n",
       "      <td>2</td>\n",
       "      <td>0</td>\n",
       "      <td>0</td>\n",
       "    </tr>\n",
       "    <tr>\n",
       "      <th>3</th>\n",
       "      <td>Aljažev dom v Vratih</td>\n",
       "      <td>1015</td>\n",
       "      <td>koča, bivak, cerkev</td>\n",
       "      <td>540629</td>\n",
       "      <td>197</td>\n",
       "      <td>11</td>\n",
       "      <td>1</td>\n",
       "      <td>1</td>\n",
       "      <td>3</td>\n",
       "    </tr>\n",
       "    <tr>\n",
       "      <th>4</th>\n",
       "      <td>Batognica</td>\n",
       "      <td>2164</td>\n",
       "      <td>vrh</td>\n",
       "      <td>541776</td>\n",
       "      <td>192</td>\n",
       "      <td>6</td>\n",
       "      <td>9</td>\n",
       "      <td>1</td>\n",
       "      <td>6</td>\n",
       "    </tr>\n",
       "    <tr>\n",
       "      <th>...</th>\n",
       "      <td>...</td>\n",
       "      <td>...</td>\n",
       "      <td>...</td>\n",
       "      <td>...</td>\n",
       "      <td>...</td>\n",
       "      <td>...</td>\n",
       "      <td>...</td>\n",
       "      <td>...</td>\n",
       "      <td>...</td>\n",
       "    </tr>\n",
       "    <tr>\n",
       "      <th>546</th>\n",
       "      <td>Šplevta</td>\n",
       "      <td>2272</td>\n",
       "      <td>NaN</td>\n",
       "      <td>430321</td>\n",
       "      <td>520</td>\n",
       "      <td>3</td>\n",
       "      <td>2</td>\n",
       "      <td>0</td>\n",
       "      <td>0</td>\n",
       "    </tr>\n",
       "    <tr>\n",
       "      <th>547</th>\n",
       "      <td>Žabiški Kuk</td>\n",
       "      <td>1844</td>\n",
       "      <td>vrh</td>\n",
       "      <td>358580</td>\n",
       "      <td>777</td>\n",
       "      <td>20</td>\n",
       "      <td>6</td>\n",
       "      <td>0</td>\n",
       "      <td>0</td>\n",
       "    </tr>\n",
       "    <tr>\n",
       "      <th>548</th>\n",
       "      <td>Žerjavec (Kavče)</td>\n",
       "      <td>805</td>\n",
       "      <td>vrh</td>\n",
       "      <td>2043</td>\n",
       "      <td>2267</td>\n",
       "      <td>9</td>\n",
       "      <td>2</td>\n",
       "      <td>0</td>\n",
       "      <td>0</td>\n",
       "    </tr>\n",
       "    <tr>\n",
       "      <th>549</th>\n",
       "      <td>Žičnica čez Tolminko</td>\n",
       "      <td>500</td>\n",
       "      <td>NaN</td>\n",
       "      <td>256189</td>\n",
       "      <td>1166</td>\n",
       "      <td>1</td>\n",
       "      <td>1</td>\n",
       "      <td>0</td>\n",
       "      <td>0</td>\n",
       "    </tr>\n",
       "    <tr>\n",
       "      <th>550</th>\n",
       "      <td>Žrd / Sart</td>\n",
       "      <td>2324</td>\n",
       "      <td>vrh</td>\n",
       "      <td>390179</td>\n",
       "      <td>663</td>\n",
       "      <td>4</td>\n",
       "      <td>2</td>\n",
       "      <td>0</td>\n",
       "      <td>0</td>\n",
       "    </tr>\n",
       "  </tbody>\n",
       "</table>\n",
       "<p>551 rows × 9 columns</p>\n",
       "</div>"
      ],
      "text/plain": [
       "                      ime  visina                vrsta  ogledi  \\\n",
       "0                 Ablanca    2004                  vrh  530758   \n",
       "1                    Adam    2012                  vrh  428230   \n",
       "2         Ajdovski gradec     580                  vrh    5890   \n",
       "3    Aljažev dom v Vratih    1015  koča, bivak, cerkev  540629   \n",
       "4               Batognica    2164                  vrh  541776   \n",
       "..                    ...     ...                  ...     ...   \n",
       "546               Šplevta    2272                  NaN  430321   \n",
       "547           Žabiški Kuk    1844                  vrh  358580   \n",
       "548      Žerjavec (Kavče)     805                  vrh    2043   \n",
       "549  Žičnica čez Tolminko     500                  NaN  256189   \n",
       "550            Žrd / Sart    2324                  vrh  390179   \n",
       "\n",
       "     mesto_priljubljenosti  stevilo_slik  stevilo_poti  stevilo_gps_sledi  \\\n",
       "0                      217            11             9                  1   \n",
       "1                      529             1             1                  0   \n",
       "2                     2066            10             2                  0   \n",
       "3                      197            11             1                  1   \n",
       "4                      192             6             9                  1   \n",
       "..                     ...           ...           ...                ...   \n",
       "546                    520             3             2                  0   \n",
       "547                    777            20             6                  0   \n",
       "548                   2267             9             2                  0   \n",
       "549                   1166             1             1                  0   \n",
       "550                    663             4             2                  0   \n",
       "\n",
       "     stevilo_vpisov_v_vpisni_knjigi  \n",
       "0                                 1  \n",
       "1                                 1  \n",
       "2                                 0  \n",
       "3                                 3  \n",
       "4                                 6  \n",
       "..                              ...  \n",
       "546                               0  \n",
       "547                               0  \n",
       "548                               0  \n",
       "549                               0  \n",
       "550                               0  \n",
       "\n",
       "[551 rows x 9 columns]"
      ]
     },
     "execution_count": 7,
     "metadata": {},
     "output_type": "execute_result"
    }
   ],
   "source": [
    "hribi"
   ]
  },
  {
   "cell_type": "markdown",
   "metadata": {},
   "source": [
    "#### Hipoteza 1: Višji vrhovi so bolj priljubljeni"
   ]
  },
  {
   "cell_type": "markdown",
   "metadata": {},
   "source": [
    "Hribi razvrščeni po mestu priljubljenosti:"
   ]
  },
  {
   "cell_type": "code",
   "execution_count": 8,
   "metadata": {},
   "outputs": [
    {
     "data": {
      "text/html": [
       "<div>\n",
       "<style scoped>\n",
       "    .dataframe tbody tr th:only-of-type {\n",
       "        vertical-align: middle;\n",
       "    }\n",
       "\n",
       "    .dataframe tbody tr th {\n",
       "        vertical-align: top;\n",
       "    }\n",
       "\n",
       "    .dataframe thead th {\n",
       "        text-align: right;\n",
       "    }\n",
       "</style>\n",
       "<table border=\"1\" class=\"dataframe\">\n",
       "  <thead>\n",
       "    <tr style=\"text-align: right;\">\n",
       "      <th></th>\n",
       "      <th>ime</th>\n",
       "      <th>visina</th>\n",
       "      <th>mesto_priljubljenosti</th>\n",
       "    </tr>\n",
       "  </thead>\n",
       "  <tbody>\n",
       "    <tr>\n",
       "      <th>428</th>\n",
       "      <td>Triglav</td>\n",
       "      <td>2864</td>\n",
       "      <td>1</td>\n",
       "    </tr>\n",
       "    <tr>\n",
       "      <th>163</th>\n",
       "      <td>Krn</td>\n",
       "      <td>2244</td>\n",
       "      <td>8</td>\n",
       "    </tr>\n",
       "    <tr>\n",
       "      <th>470</th>\n",
       "      <td>Viševnik</td>\n",
       "      <td>2050</td>\n",
       "      <td>9</td>\n",
       "    </tr>\n",
       "    <tr>\n",
       "      <th>151</th>\n",
       "      <td>Koča pri Triglavskih jezerih</td>\n",
       "      <td>1685</td>\n",
       "      <td>10</td>\n",
       "    </tr>\n",
       "    <tr>\n",
       "      <th>209</th>\n",
       "      <td>Mangart</td>\n",
       "      <td>2679</td>\n",
       "      <td>15</td>\n",
       "    </tr>\n",
       "    <tr>\n",
       "      <th>...</th>\n",
       "      <td>...</td>\n",
       "      <td>...</td>\n",
       "      <td>...</td>\n",
       "    </tr>\n",
       "    <tr>\n",
       "      <th>292</th>\n",
       "      <td>Planina Zapotok</td>\n",
       "      <td>1385</td>\n",
       "      <td>2756</td>\n",
       "    </tr>\n",
       "    <tr>\n",
       "      <th>511</th>\n",
       "      <td>Zagorelec</td>\n",
       "      <td>2090</td>\n",
       "      <td>2769</td>\n",
       "    </tr>\n",
       "    <tr>\n",
       "      <th>434</th>\n",
       "      <td>Velika Glava</td>\n",
       "      <td>1883</td>\n",
       "      <td>2840</td>\n",
       "    </tr>\n",
       "    <tr>\n",
       "      <th>305</th>\n",
       "      <td>Plešivec</td>\n",
       "      <td>1962</td>\n",
       "      <td>2887</td>\n",
       "    </tr>\n",
       "    <tr>\n",
       "      <th>478</th>\n",
       "      <td>Vratni vrh</td>\n",
       "      <td>1983</td>\n",
       "      <td>2890</td>\n",
       "    </tr>\n",
       "  </tbody>\n",
       "</table>\n",
       "<p>551 rows × 3 columns</p>\n",
       "</div>"
      ],
      "text/plain": [
       "                              ime  visina  mesto_priljubljenosti\n",
       "428                       Triglav    2864                      1\n",
       "163                           Krn    2244                      8\n",
       "470                      Viševnik    2050                      9\n",
       "151  Koča pri Triglavskih jezerih    1685                     10\n",
       "209                       Mangart    2679                     15\n",
       "..                            ...     ...                    ...\n",
       "292               Planina Zapotok    1385                   2756\n",
       "511                     Zagorelec    2090                   2769\n",
       "434                  Velika Glava    1883                   2840\n",
       "305                      Plešivec    1962                   2887\n",
       "478                    Vratni vrh    1983                   2890\n",
       "\n",
       "[551 rows x 3 columns]"
      ]
     },
     "execution_count": 8,
     "metadata": {},
     "output_type": "execute_result"
    }
   ],
   "source": [
    "hribi_priljubljenost_visina = hribi[[\"ime\", \"visina\", \"mesto_priljubljenosti\"]]\n",
    "hribi_priljubljenost_visina.sort_values(\"mesto_priljubljenosti\", ascending=True)"
   ]
  },
  {
   "cell_type": "markdown",
   "metadata": {},
   "source": [
    "In po višini:"
   ]
  },
  {
   "cell_type": "code",
   "execution_count": 9,
   "metadata": {},
   "outputs": [
    {
     "data": {
      "text/html": [
       "<div>\n",
       "<style scoped>\n",
       "    .dataframe tbody tr th:only-of-type {\n",
       "        vertical-align: middle;\n",
       "    }\n",
       "\n",
       "    .dataframe tbody tr th {\n",
       "        vertical-align: top;\n",
       "    }\n",
       "\n",
       "    .dataframe thead th {\n",
       "        text-align: right;\n",
       "    }\n",
       "</style>\n",
       "<table border=\"1\" class=\"dataframe\">\n",
       "  <thead>\n",
       "    <tr style=\"text-align: right;\">\n",
       "      <th></th>\n",
       "      <th>ime</th>\n",
       "      <th>visina</th>\n",
       "      <th>mesto_priljubljenosti</th>\n",
       "    </tr>\n",
       "  </thead>\n",
       "  <tbody>\n",
       "    <tr>\n",
       "      <th>428</th>\n",
       "      <td>Triglav</td>\n",
       "      <td>2864</td>\n",
       "      <td>1</td>\n",
       "    </tr>\n",
       "    <tr>\n",
       "      <th>223</th>\n",
       "      <td>Montaž / Jôf di Montasio</td>\n",
       "      <td>2753</td>\n",
       "      <td>56</td>\n",
       "    </tr>\n",
       "    <tr>\n",
       "      <th>538</th>\n",
       "      <td>Škrlatica</td>\n",
       "      <td>2740</td>\n",
       "      <td>36</td>\n",
       "    </tr>\n",
       "    <tr>\n",
       "      <th>205</th>\n",
       "      <td>Mali Triglav</td>\n",
       "      <td>2725</td>\n",
       "      <td>242</td>\n",
       "    </tr>\n",
       "    <tr>\n",
       "      <th>209</th>\n",
       "      <td>Mangart</td>\n",
       "      <td>2679</td>\n",
       "      <td>15</td>\n",
       "    </tr>\n",
       "    <tr>\n",
       "      <th>...</th>\n",
       "      <td>...</td>\n",
       "      <td>...</td>\n",
       "      <td>...</td>\n",
       "    </tr>\n",
       "    <tr>\n",
       "      <th>78</th>\n",
       "      <td>Gregorčičev slap</td>\n",
       "      <td>390</td>\n",
       "      <td>2055</td>\n",
       "    </tr>\n",
       "    <tr>\n",
       "      <th>131</th>\n",
       "      <td>Korita Soče pri Kršovcu</td>\n",
       "      <td>390</td>\n",
       "      <td>913</td>\n",
       "    </tr>\n",
       "    <tr>\n",
       "      <th>451</th>\n",
       "      <td>Veliki slap Kozjak</td>\n",
       "      <td>250</td>\n",
       "      <td>496</td>\n",
       "    </tr>\n",
       "    <tr>\n",
       "      <th>204</th>\n",
       "      <td>Mali slap Kozjak</td>\n",
       "      <td>230</td>\n",
       "      <td>1016</td>\n",
       "    </tr>\n",
       "    <tr>\n",
       "      <th>420</th>\n",
       "      <td>Tolminska korita</td>\n",
       "      <td>180</td>\n",
       "      <td>518</td>\n",
       "    </tr>\n",
       "  </tbody>\n",
       "</table>\n",
       "<p>551 rows × 3 columns</p>\n",
       "</div>"
      ],
      "text/plain": [
       "                          ime  visina  mesto_priljubljenosti\n",
       "428                   Triglav    2864                      1\n",
       "223  Montaž / Jôf di Montasio    2753                     56\n",
       "538                 Škrlatica    2740                     36\n",
       "205              Mali Triglav    2725                    242\n",
       "209                   Mangart    2679                     15\n",
       "..                        ...     ...                    ...\n",
       "78           Gregorčičev slap     390                   2055\n",
       "131   Korita Soče pri Kršovcu     390                    913\n",
       "451        Veliki slap Kozjak     250                    496\n",
       "204          Mali slap Kozjak     230                   1016\n",
       "420          Tolminska korita     180                    518\n",
       "\n",
       "[551 rows x 3 columns]"
      ]
     },
     "execution_count": 9,
     "metadata": {},
     "output_type": "execute_result"
    }
   ],
   "source": [
    "hribi_priljubljenost_visina.sort_values(\"visina\", ascending=False)"
   ]
  },
  {
   "cell_type": "markdown",
   "metadata": {},
   "source": [
    "Sedaj pa še odvisnost priljubljenosti od višine:"
   ]
  },
  {
   "cell_type": "code",
   "execution_count": 10,
   "metadata": {},
   "outputs": [
    {
     "data": {
      "text/plain": [
       "<AxesSubplot:xlabel='visina', ylabel='mesto_priljubljenosti'>"
      ]
     },
     "execution_count": 10,
     "metadata": {},
     "output_type": "execute_result"
    },
    {
     "data": {
      "image/png": "[encoded data removed]",
      "text/plain": [
       "<Figure size 432x288 with 1 Axes>"
      ]
     },
     "metadata": {
      "needs_background": "light"
     },
     "output_type": "display_data"
    }
   ],
   "source": [
    "hribi.plot.scatter(x = \"visina\", y = \"mesto_priljubljenosti\")"
   ]
  },
  {
   "cell_type": "markdown",
   "metadata": {},
   "source": [
    "Priljubljenost torej ni odvisna od višine. Kaj pa od števila ogledov?"
   ]
  },
  {
   "cell_type": "markdown",
   "metadata": {},
   "source": [
    "#### Hipoteza 2: Najbolj priljubljene gore imajo tudi največje število ogledov"
   ]
  },
  {
   "cell_type": "markdown",
   "metadata": {},
   "source": [
    "Hribi razvrščeni po številu ogledov:"
   ]
  },
  {
   "cell_type": "code",
   "execution_count": 11,
   "metadata": {},
   "outputs": [
    {
     "data": {
      "text/html": [
       "<div>\n",
       "<style scoped>\n",
       "    .dataframe tbody tr th:only-of-type {\n",
       "        vertical-align: middle;\n",
       "    }\n",
       "\n",
       "    .dataframe tbody tr th {\n",
       "        vertical-align: top;\n",
       "    }\n",
       "\n",
       "    .dataframe thead th {\n",
       "        text-align: right;\n",
       "    }\n",
       "</style>\n",
       "<table border=\"1\" class=\"dataframe\">\n",
       "  <thead>\n",
       "    <tr style=\"text-align: right;\">\n",
       "      <th></th>\n",
       "      <th>ime</th>\n",
       "      <th>ogledi</th>\n",
       "      <th>mesto_priljubljenosti</th>\n",
       "    </tr>\n",
       "  </thead>\n",
       "  <tbody>\n",
       "    <tr>\n",
       "      <th>428</th>\n",
       "      <td>Triglav</td>\n",
       "      <td>1421929</td>\n",
       "      <td>1</td>\n",
       "    </tr>\n",
       "    <tr>\n",
       "      <th>163</th>\n",
       "      <td>Krn</td>\n",
       "      <td>871740</td>\n",
       "      <td>8</td>\n",
       "    </tr>\n",
       "    <tr>\n",
       "      <th>470</th>\n",
       "      <td>Viševnik</td>\n",
       "      <td>865252</td>\n",
       "      <td>9</td>\n",
       "    </tr>\n",
       "    <tr>\n",
       "      <th>151</th>\n",
       "      <td>Koča pri Triglavskih jezerih</td>\n",
       "      <td>857079</td>\n",
       "      <td>10</td>\n",
       "    </tr>\n",
       "    <tr>\n",
       "      <th>209</th>\n",
       "      <td>Mangart</td>\n",
       "      <td>835506</td>\n",
       "      <td>15</td>\n",
       "    </tr>\n",
       "    <tr>\n",
       "      <th>...</th>\n",
       "      <td>...</td>\n",
       "      <td>...</td>\n",
       "      <td>...</td>\n",
       "    </tr>\n",
       "    <tr>\n",
       "      <th>292</th>\n",
       "      <td>Planina Zapotok</td>\n",
       "      <td>232</td>\n",
       "      <td>2756</td>\n",
       "    </tr>\n",
       "    <tr>\n",
       "      <th>511</th>\n",
       "      <td>Zagorelec</td>\n",
       "      <td>210</td>\n",
       "      <td>2769</td>\n",
       "    </tr>\n",
       "    <tr>\n",
       "      <th>434</th>\n",
       "      <td>Velika Glava</td>\n",
       "      <td>117</td>\n",
       "      <td>2840</td>\n",
       "    </tr>\n",
       "    <tr>\n",
       "      <th>305</th>\n",
       "      <td>Plešivec</td>\n",
       "      <td>65</td>\n",
       "      <td>2887</td>\n",
       "    </tr>\n",
       "    <tr>\n",
       "      <th>478</th>\n",
       "      <td>Vratni vrh</td>\n",
       "      <td>63</td>\n",
       "      <td>2890</td>\n",
       "    </tr>\n",
       "  </tbody>\n",
       "</table>\n",
       "<p>551 rows × 3 columns</p>\n",
       "</div>"
      ],
      "text/plain": [
       "                              ime   ogledi  mesto_priljubljenosti\n",
       "428                       Triglav  1421929                      1\n",
       "163                           Krn   871740                      8\n",
       "470                      Viševnik   865252                      9\n",
       "151  Koča pri Triglavskih jezerih   857079                     10\n",
       "209                       Mangart   835506                     15\n",
       "..                            ...      ...                    ...\n",
       "292               Planina Zapotok      232                   2756\n",
       "511                     Zagorelec      210                   2769\n",
       "434                  Velika Glava      117                   2840\n",
       "305                      Plešivec       65                   2887\n",
       "478                    Vratni vrh       63                   2890\n",
       "\n",
       "[551 rows x 3 columns]"
      ]
     },
     "execution_count": 11,
     "metadata": {},
     "output_type": "execute_result"
    }
   ],
   "source": [
    "hribi_ogledi_priljubljenost = hribi[[\"ime\", \"ogledi\", \"mesto_priljubljenosti\"]]\n",
    "hribi_ogledi_priljubljenost.sort_values(\"ogledi\", ascending=False)"
   ]
  },
  {
   "cell_type": "code",
   "execution_count": 12,
   "metadata": {},
   "outputs": [
    {
     "data": {
      "text/plain": [
       "<AxesSubplot:xlabel='ogledi', ylabel='mesto_priljubljenosti'>"
      ]
     },
     "execution_count": 12,
     "metadata": {},
     "output_type": "execute_result"
    },
    {
     "data": {
      "image/png": "[encoded data removed]",
      "text/plain": [
       "<Figure size 432x288 with 1 Axes>"
      ]
     },
     "metadata": {
      "needs_background": "light"
     },
     "output_type": "display_data"
    }
   ],
   "source": [
    "hribi.plot.scatter(x = \"ogledi\", y = \"mesto_priljubljenosti\")"
   ]
  },
  {
   "cell_type": "markdown",
   "metadata": {},
   "source": [
    "Priljubljenost je torej definitivno odvisna od števila ogledov. Večje kot imajo število ogledov, višje je njihovo mesto priljubljenosti."
   ]
  },
  {
   "cell_type": "markdown",
   "metadata": {},
   "source": [
    "#### Hipoteza 3: Višji vrhovi imajo večje število poti"
   ]
  },
  {
   "cell_type": "markdown",
   "metadata": {},
   "source": [
    "Hribi razvrščeni po številu poti"
   ]
  },
  {
   "cell_type": "code",
   "execution_count": 13,
   "metadata": {},
   "outputs": [
    {
     "data": {
      "text/html": [
       "<div>\n",
       "<style scoped>\n",
       "    .dataframe tbody tr th:only-of-type {\n",
       "        vertical-align: middle;\n",
       "    }\n",
       "\n",
       "    .dataframe tbody tr th {\n",
       "        vertical-align: top;\n",
       "    }\n",
       "\n",
       "    .dataframe thead th {\n",
       "        text-align: right;\n",
       "    }\n",
       "</style>\n",
       "<table border=\"1\" class=\"dataframe\">\n",
       "  <thead>\n",
       "    <tr style=\"text-align: right;\">\n",
       "      <th></th>\n",
       "      <th>ime</th>\n",
       "      <th>visina</th>\n",
       "      <th>stevilo_poti</th>\n",
       "    </tr>\n",
       "  </thead>\n",
       "  <tbody>\n",
       "    <tr>\n",
       "      <th>428</th>\n",
       "      <td>Triglav</td>\n",
       "      <td>2864</td>\n",
       "      <td>27</td>\n",
       "    </tr>\n",
       "    <tr>\n",
       "      <th>470</th>\n",
       "      <td>Viševnik</td>\n",
       "      <td>2050</td>\n",
       "      <td>21</td>\n",
       "    </tr>\n",
       "    <tr>\n",
       "      <th>476</th>\n",
       "      <td>Vogel</td>\n",
       "      <td>1922</td>\n",
       "      <td>19</td>\n",
       "    </tr>\n",
       "    <tr>\n",
       "      <th>527</th>\n",
       "      <td>Črna prst</td>\n",
       "      <td>1844</td>\n",
       "      <td>18</td>\n",
       "    </tr>\n",
       "    <tr>\n",
       "      <th>213</th>\n",
       "      <td>Matajur</td>\n",
       "      <td>1642</td>\n",
       "      <td>13</td>\n",
       "    </tr>\n",
       "    <tr>\n",
       "      <th>...</th>\n",
       "      <td>...</td>\n",
       "      <td>...</td>\n",
       "      <td>...</td>\n",
       "    </tr>\n",
       "    <tr>\n",
       "      <th>329</th>\n",
       "      <td>Rakova Špica</td>\n",
       "      <td>2545</td>\n",
       "      <td>0</td>\n",
       "    </tr>\n",
       "    <tr>\n",
       "      <th>27</th>\n",
       "      <td>Bivak Tarvisio</td>\n",
       "      <td>2150</td>\n",
       "      <td>0</td>\n",
       "    </tr>\n",
       "    <tr>\n",
       "      <th>63</th>\n",
       "      <td>Frdamane police</td>\n",
       "      <td>2284</td>\n",
       "      <td>0</td>\n",
       "    </tr>\n",
       "    <tr>\n",
       "      <th>420</th>\n",
       "      <td>Tolminska korita</td>\n",
       "      <td>180</td>\n",
       "      <td>0</td>\n",
       "    </tr>\n",
       "    <tr>\n",
       "      <th>373</th>\n",
       "      <td>Slap Zaročenca</td>\n",
       "      <td>930</td>\n",
       "      <td>0</td>\n",
       "    </tr>\n",
       "  </tbody>\n",
       "</table>\n",
       "<p>551 rows × 3 columns</p>\n",
       "</div>"
      ],
      "text/plain": [
       "                  ime  visina  stevilo_poti\n",
       "428           Triglav    2864            27\n",
       "470          Viševnik    2050            21\n",
       "476             Vogel    1922            19\n",
       "527         Črna prst    1844            18\n",
       "213           Matajur    1642            13\n",
       "..                ...     ...           ...\n",
       "329      Rakova Špica    2545             0\n",
       "27     Bivak Tarvisio    2150             0\n",
       "63    Frdamane police    2284             0\n",
       "420  Tolminska korita     180             0\n",
       "373    Slap Zaročenca     930             0\n",
       "\n",
       "[551 rows x 3 columns]"
      ]
     },
     "execution_count": 13,
     "metadata": {},
     "output_type": "execute_result"
    }
   ],
   "source": [
    "hribi_visina_poti = hribi[[\"ime\", \"visina\", \"stevilo_poti\"]]\n",
    "hribi_visina_poti.sort_values(\"stevilo_poti\", ascending=False)"
   ]
  },
  {
   "cell_type": "code",
   "execution_count": 14,
   "metadata": {},
   "outputs": [
    {
     "data": {
      "text/plain": [
       "<AxesSubplot:xlabel='visina', ylabel='stevilo_poti'>"
      ]
     },
     "execution_count": 14,
     "metadata": {},
     "output_type": "execute_result"
    },
    {
     "data": {
      "image/png": "[encoded data removed]",
      "text/plain": [
       "<Figure size 432x288 with 1 Axes>"
      ]
     },
     "metadata": {
      "needs_background": "light"
     },
     "output_type": "display_data"
    }
   ],
   "source": [
    "hribi.plot.scatter(x = \"visina\", y = \"stevilo_poti\")"
   ]
  },
  {
   "cell_type": "markdown",
   "metadata": {},
   "source": [
    "Število poti torej ni odvisno od višine hriba. Ali je mogoče število vpisov v vpisni knjigi odvisno od višine?"
   ]
  },
  {
   "cell_type": "markdown",
   "metadata": {},
   "source": [
    "#### Hipoteza 4: Višji vrhovi imajo večje število vpisov"
   ]
  },
  {
   "cell_type": "markdown",
   "metadata": {},
   "source": [
    "Hribi po številu vpisov v vpisni knjigi:"
   ]
  },
  {
   "cell_type": "code",
   "execution_count": 15,
   "metadata": {},
   "outputs": [
    {
     "data": {
      "text/html": [
       "<div>\n",
       "<style scoped>\n",
       "    .dataframe tbody tr th:only-of-type {\n",
       "        vertical-align: middle;\n",
       "    }\n",
       "\n",
       "    .dataframe tbody tr th {\n",
       "        vertical-align: top;\n",
       "    }\n",
       "\n",
       "    .dataframe thead th {\n",
       "        text-align: right;\n",
       "    }\n",
       "</style>\n",
       "<table border=\"1\" class=\"dataframe\">\n",
       "  <thead>\n",
       "    <tr style=\"text-align: right;\">\n",
       "      <th></th>\n",
       "      <th>ime</th>\n",
       "      <th>visina</th>\n",
       "      <th>stevilo_vpisov_v_vpisni_knjigi</th>\n",
       "    </tr>\n",
       "  </thead>\n",
       "  <tbody>\n",
       "    <tr>\n",
       "      <th>470</th>\n",
       "      <td>Viševnik</td>\n",
       "      <td>2050</td>\n",
       "      <td>25</td>\n",
       "    </tr>\n",
       "    <tr>\n",
       "      <th>428</th>\n",
       "      <td>Triglav</td>\n",
       "      <td>2864</td>\n",
       "      <td>22</td>\n",
       "    </tr>\n",
       "    <tr>\n",
       "      <th>42</th>\n",
       "      <td>Debela peč</td>\n",
       "      <td>2014</td>\n",
       "      <td>18</td>\n",
       "    </tr>\n",
       "    <tr>\n",
       "      <th>429</th>\n",
       "      <td>Triglavski dom na Kredarici</td>\n",
       "      <td>2515</td>\n",
       "      <td>16</td>\n",
       "    </tr>\n",
       "    <tr>\n",
       "      <th>205</th>\n",
       "      <td>Mali Triglav</td>\n",
       "      <td>2725</td>\n",
       "      <td>14</td>\n",
       "    </tr>\n",
       "    <tr>\n",
       "      <th>...</th>\n",
       "      <td>...</td>\n",
       "      <td>...</td>\n",
       "      <td>...</td>\n",
       "    </tr>\n",
       "    <tr>\n",
       "      <th>239</th>\n",
       "      <td>Partizanska bolnišnica na Mežakli</td>\n",
       "      <td>1050</td>\n",
       "      <td>0</td>\n",
       "    </tr>\n",
       "    <tr>\n",
       "      <th>237</th>\n",
       "      <td>Orožnova koča na planini za Liscem</td>\n",
       "      <td>1346</td>\n",
       "      <td>0</td>\n",
       "    </tr>\n",
       "    <tr>\n",
       "      <th>234</th>\n",
       "      <td>Okrepčevalnica Slap Voje</td>\n",
       "      <td>745</td>\n",
       "      <td>0</td>\n",
       "    </tr>\n",
       "    <tr>\n",
       "      <th>232</th>\n",
       "      <td>Nizki vrh</td>\n",
       "      <td>1488</td>\n",
       "      <td>0</td>\n",
       "    </tr>\n",
       "    <tr>\n",
       "      <th>550</th>\n",
       "      <td>Žrd / Sart</td>\n",
       "      <td>2324</td>\n",
       "      <td>0</td>\n",
       "    </tr>\n",
       "  </tbody>\n",
       "</table>\n",
       "<p>551 rows × 3 columns</p>\n",
       "</div>"
      ],
      "text/plain": [
       "                                    ime  visina  \\\n",
       "470                            Viševnik    2050   \n",
       "428                             Triglav    2864   \n",
       "42                           Debela peč    2014   \n",
       "429         Triglavski dom na Kredarici    2515   \n",
       "205                        Mali Triglav    2725   \n",
       "..                                  ...     ...   \n",
       "239   Partizanska bolnišnica na Mežakli    1050   \n",
       "237  Orožnova koča na planini za Liscem    1346   \n",
       "234            Okrepčevalnica Slap Voje     745   \n",
       "232                          Nizki vrh     1488   \n",
       "550                          Žrd / Sart    2324   \n",
       "\n",
       "     stevilo_vpisov_v_vpisni_knjigi  \n",
       "470                              25  \n",
       "428                              22  \n",
       "42                               18  \n",
       "429                              16  \n",
       "205                              14  \n",
       "..                              ...  \n",
       "239                               0  \n",
       "237                               0  \n",
       "234                               0  \n",
       "232                               0  \n",
       "550                               0  \n",
       "\n",
       "[551 rows x 3 columns]"
      ]
     },
     "execution_count": 15,
     "metadata": {},
     "output_type": "execute_result"
    }
   ],
   "source": [
    "hribi_visina_vpisi = hribi[[\"ime\", \"visina\", \"stevilo_vpisov_v_vpisni_knjigi\"]]\n",
    "hribi_visina_vpisi.sort_values(\"stevilo_vpisov_v_vpisni_knjigi\", ascending=False)"
   ]
  },
  {
   "cell_type": "code",
   "execution_count": 16,
   "metadata": {},
   "outputs": [
    {
     "data": {
      "text/plain": [
       "<AxesSubplot:xlabel='visina', ylabel='stevilo_vpisov_v_vpisni_knjigi'>"
      ]
     },
     "execution_count": 16,
     "metadata": {},
     "output_type": "execute_result"
    },
    {
     "data": {
      "image/png": "[encoded data removed]",
      "text/plain": [
       "<Figure size 432x288 with 1 Axes>"
      ]
     },
     "metadata": {
      "needs_background": "light"
     },
     "output_type": "display_data"
    }
   ],
   "source": [
    "hribi.plot.scatter(x = \"visina\", y = \"stevilo_vpisov_v_vpisni_knjigi\")"
   ]
  },
  {
   "cell_type": "markdown",
   "metadata": {},
   "source": [
    "Tudi število vpisov v vpisno knjigo ni povezano z višino hriba."
   ]
  },
  {
   "cell_type": "markdown",
   "metadata": {},
   "source": [
    "#### Hipoteza 5: Pod vrsto se največkrat pojavi vrh"
   ]
  },
  {
   "cell_type": "code",
   "execution_count": 17,
   "metadata": {},
   "outputs": [],
   "source": [
    "vrsta = hribi.groupby('vrsta').size().sort_values(ascending=False)"
   ]
  },
  {
   "cell_type": "code",
   "execution_count": 18,
   "metadata": {},
   "outputs": [
    {
     "data": {
      "text/plain": [
       "vrsta\n",
       "vrh                             299\n",
       "planina                          54\n",
       "koča                             27\n",
       "slap                             23\n",
       "bivak                            14\n",
       "                               ... \n",
       "koča, bivak, planina              1\n",
       "koča, jezero, bivak               1\n",
       "koča, jezero, bivak, planina      1\n",
       "vrh, planina                      1\n",
       "vrh, slap                         1\n",
       "Length: 33, dtype: int64"
      ]
     },
     "execution_count": 18,
     "metadata": {},
     "output_type": "execute_result"
    }
   ],
   "source": [
    "vrsta"
   ]
  },
  {
   "cell_type": "markdown",
   "metadata": {},
   "source": [
    "To tabelo je treba popraviti, ker imajo nekateri hribi več vrst."
   ]
  },
  {
   "cell_type": "code",
   "execution_count": 19,
   "metadata": {},
   "outputs": [],
   "source": [
    "imena_vrst = ['vrh', 'planina', 'koča', 'slap', 'bivak', 'jezero', 'cerkev']\n",
    "tabela = pd.DataFrame(index=imena_vrst, columns = ['Število']) \n",
    "for i in imena_vrst:\n",
    "    tabela.at[i, 'Število'] = hribi.vrsta.str.count(i).sum()"
   ]
  },
  {
   "cell_type": "code",
   "execution_count": 20,
   "metadata": {},
   "outputs": [
    {
     "data": {
      "text/html": [
       "<div>\n",
       "<style scoped>\n",
       "    .dataframe tbody tr th:only-of-type {\n",
       "        vertical-align: middle;\n",
       "    }\n",
       "\n",
       "    .dataframe tbody tr th {\n",
       "        vertical-align: top;\n",
       "    }\n",
       "\n",
       "    .dataframe thead th {\n",
       "        text-align: right;\n",
       "    }\n",
       "</style>\n",
       "<table border=\"1\" class=\"dataframe\">\n",
       "  <thead>\n",
       "    <tr style=\"text-align: right;\">\n",
       "      <th></th>\n",
       "      <th>Število</th>\n",
       "    </tr>\n",
       "  </thead>\n",
       "  <tbody>\n",
       "    <tr>\n",
       "      <th>vrh</th>\n",
       "      <td>315</td>\n",
       "    </tr>\n",
       "    <tr>\n",
       "      <th>planina</th>\n",
       "      <td>89</td>\n",
       "    </tr>\n",
       "    <tr>\n",
       "      <th>koča</th>\n",
       "      <td>65</td>\n",
       "    </tr>\n",
       "    <tr>\n",
       "      <th>bivak</th>\n",
       "      <td>44</td>\n",
       "    </tr>\n",
       "    <tr>\n",
       "      <th>slap</th>\n",
       "      <td>28</td>\n",
       "    </tr>\n",
       "    <tr>\n",
       "      <th>jezero</th>\n",
       "      <td>28</td>\n",
       "    </tr>\n",
       "    <tr>\n",
       "      <th>cerkev</th>\n",
       "      <td>20</td>\n",
       "    </tr>\n",
       "  </tbody>\n",
       "</table>\n",
       "</div>"
      ],
      "text/plain": [
       "        Število\n",
       "vrh         315\n",
       "planina      89\n",
       "koča         65\n",
       "bivak        44\n",
       "slap         28\n",
       "jezero       28\n",
       "cerkev       20"
      ]
     },
     "execution_count": 20,
     "metadata": {},
     "output_type": "execute_result"
    }
   ],
   "source": [
    "tabela.sort_values(\"Število\", ascending=False)"
   ]
  },
  {
   "cell_type": "code",
   "execution_count": 21,
   "metadata": {},
   "outputs": [
    {
     "data": {
      "text/plain": [
       "<AxesSubplot:>"
      ]
     },
     "execution_count": 21,
     "metadata": {},
     "output_type": "execute_result"
    },
    {
     "data": {
      "image/png": "[encoded data removed]",
      "text/plain": [
       "<Figure size 432x288 with 1 Axes>"
      ]
     },
     "metadata": {
      "needs_background": "light"
     },
     "output_type": "display_data"
    }
   ],
   "source": [
    "tabela.plot.bar()"
   ]
  },
  {
   "cell_type": "markdown",
   "metadata": {},
   "source": [
    "Pod vrsto se torej največkrat pojavi vrh."
   ]
  },
  {
   "cell_type": "markdown",
   "metadata": {},
   "source": [
    "#### Hipoteza 6: Bolj priljubljeni vrhovi imajo večje število slik"
   ]
  },
  {
   "cell_type": "code",
   "execution_count": 22,
   "metadata": {},
   "outputs": [
    {
     "data": {
      "text/html": [
       "<div>\n",
       "<style scoped>\n",
       "    .dataframe tbody tr th:only-of-type {\n",
       "        vertical-align: middle;\n",
       "    }\n",
       "\n",
       "    .dataframe tbody tr th {\n",
       "        vertical-align: top;\n",
       "    }\n",
       "\n",
       "    .dataframe thead th {\n",
       "        text-align: right;\n",
       "    }\n",
       "</style>\n",
       "<table border=\"1\" class=\"dataframe\">\n",
       "  <thead>\n",
       "    <tr style=\"text-align: right;\">\n",
       "      <th></th>\n",
       "      <th>ime</th>\n",
       "      <th>mesto_priljubljenosti</th>\n",
       "      <th>stevilo_slik</th>\n",
       "    </tr>\n",
       "  </thead>\n",
       "  <tbody>\n",
       "    <tr>\n",
       "      <th>428</th>\n",
       "      <td>Triglav</td>\n",
       "      <td>1</td>\n",
       "      <td>42</td>\n",
       "    </tr>\n",
       "    <tr>\n",
       "      <th>96</th>\n",
       "      <td>Jalovec</td>\n",
       "      <td>23</td>\n",
       "      <td>29</td>\n",
       "    </tr>\n",
       "    <tr>\n",
       "      <th>209</th>\n",
       "      <td>Mangart</td>\n",
       "      <td>15</td>\n",
       "      <td>26</td>\n",
       "    </tr>\n",
       "    <tr>\n",
       "      <th>420</th>\n",
       "      <td>Tolminska korita</td>\n",
       "      <td>518</td>\n",
       "      <td>24</td>\n",
       "    </tr>\n",
       "    <tr>\n",
       "      <th>146</th>\n",
       "      <td>Koča na Uskovnici</td>\n",
       "      <td>115</td>\n",
       "      <td>24</td>\n",
       "    </tr>\n",
       "    <tr>\n",
       "      <th>...</th>\n",
       "      <td>...</td>\n",
       "      <td>...</td>\n",
       "      <td>...</td>\n",
       "    </tr>\n",
       "    <tr>\n",
       "      <th>513</th>\n",
       "      <td>Zavetišče pod Ponco</td>\n",
       "      <td>924</td>\n",
       "      <td>1</td>\n",
       "    </tr>\n",
       "    <tr>\n",
       "      <th>362</th>\n",
       "      <td>Slap Beri</td>\n",
       "      <td>1257</td>\n",
       "      <td>0</td>\n",
       "    </tr>\n",
       "    <tr>\n",
       "      <th>121</th>\n",
       "      <td>Klečica</td>\n",
       "      <td>1386</td>\n",
       "      <td>0</td>\n",
       "    </tr>\n",
       "    <tr>\n",
       "      <th>344</th>\n",
       "      <td>Rigljica</td>\n",
       "      <td>871</td>\n",
       "      <td>0</td>\n",
       "    </tr>\n",
       "    <tr>\n",
       "      <th>38</th>\n",
       "      <td>Briceljk</td>\n",
       "      <td>505</td>\n",
       "      <td>0</td>\n",
       "    </tr>\n",
       "  </tbody>\n",
       "</table>\n",
       "<p>551 rows × 3 columns</p>\n",
       "</div>"
      ],
      "text/plain": [
       "                     ime  mesto_priljubljenosti  stevilo_slik\n",
       "428              Triglav                      1            42\n",
       "96               Jalovec                     23            29\n",
       "209              Mangart                     15            26\n",
       "420     Tolminska korita                    518            24\n",
       "146    Koča na Uskovnici                    115            24\n",
       "..                   ...                    ...           ...\n",
       "513  Zavetišče pod Ponco                    924             1\n",
       "362            Slap Beri                   1257             0\n",
       "121              Klečica                   1386             0\n",
       "344             Rigljica                    871             0\n",
       "38              Briceljk                    505             0\n",
       "\n",
       "[551 rows x 3 columns]"
      ]
     },
     "execution_count": 22,
     "metadata": {},
     "output_type": "execute_result"
    }
   ],
   "source": [
    "hribi_priljubljenost_slike = hribi[[\"ime\", \"mesto_priljubljenosti\", \"stevilo_slik\"]]\n",
    "hribi_priljubljenost_slike.sort_values(\"stevilo_slik\", ascending=False)"
   ]
  },
  {
   "cell_type": "code",
   "execution_count": 23,
   "metadata": {},
   "outputs": [
    {
     "data": {
      "text/plain": [
       "<AxesSubplot:xlabel='mesto_priljubljenosti', ylabel='stevilo_slik'>"
      ]
     },
     "execution_count": 23,
     "metadata": {},
     "output_type": "execute_result"
    },
    {
     "data": {
      "image/png": "[encoded data removed]",
      "text/plain": [
       "<Figure size 432x288 with 1 Axes>"
      ]
     },
     "metadata": {
      "needs_background": "light"
     },
     "output_type": "display_data"
    }
   ],
   "source": [
    "hribi.plot.scatter(x = \"mesto_priljubljenosti\", y = \"stevilo_slik\")"
   ]
  },
  {
   "cell_type": "markdown",
   "metadata": {},
   "source": [
    "Število slik torej ni odvisno od mesta priljubljenosti."
   ]
  },
  {
   "cell_type": "markdown",
   "metadata": {},
   "source": [
    "#### Hipoteza 7: Vrhovi z večjim številom poti imajo več GPS sledi"
   ]
  },
  {
   "cell_type": "code",
   "execution_count": 24,
   "metadata": {},
   "outputs": [
    {
     "data": {
      "text/html": [
       "<div>\n",
       "<style scoped>\n",
       "    .dataframe tbody tr th:only-of-type {\n",
       "        vertical-align: middle;\n",
       "    }\n",
       "\n",
       "    .dataframe tbody tr th {\n",
       "        vertical-align: top;\n",
       "    }\n",
       "\n",
       "    .dataframe thead th {\n",
       "        text-align: right;\n",
       "    }\n",
       "</style>\n",
       "<table border=\"1\" class=\"dataframe\">\n",
       "  <thead>\n",
       "    <tr style=\"text-align: right;\">\n",
       "      <th></th>\n",
       "      <th>ime</th>\n",
       "      <th>stevilo_poti</th>\n",
       "      <th>stevilo_gps_sledi</th>\n",
       "    </tr>\n",
       "  </thead>\n",
       "  <tbody>\n",
       "    <tr>\n",
       "      <th>428</th>\n",
       "      <td>Triglav</td>\n",
       "      <td>27</td>\n",
       "      <td>6</td>\n",
       "    </tr>\n",
       "    <tr>\n",
       "      <th>163</th>\n",
       "      <td>Krn</td>\n",
       "      <td>12</td>\n",
       "      <td>5</td>\n",
       "    </tr>\n",
       "    <tr>\n",
       "      <th>425</th>\n",
       "      <td>Tosc</td>\n",
       "      <td>5</td>\n",
       "      <td>4</td>\n",
       "    </tr>\n",
       "    <tr>\n",
       "      <th>5</th>\n",
       "      <td>Bavški Grintavec</td>\n",
       "      <td>3</td>\n",
       "      <td>4</td>\n",
       "    </tr>\n",
       "    <tr>\n",
       "      <th>96</th>\n",
       "      <td>Jalovec</td>\n",
       "      <td>10</td>\n",
       "      <td>4</td>\n",
       "    </tr>\n",
       "    <tr>\n",
       "      <th>...</th>\n",
       "      <td>...</td>\n",
       "      <td>...</td>\n",
       "      <td>...</td>\n",
       "    </tr>\n",
       "    <tr>\n",
       "      <th>195</th>\n",
       "      <td>Mala Rodica</td>\n",
       "      <td>2</td>\n",
       "      <td>0</td>\n",
       "    </tr>\n",
       "    <tr>\n",
       "      <th>194</th>\n",
       "      <td>Mala Ponca</td>\n",
       "      <td>3</td>\n",
       "      <td>0</td>\n",
       "    </tr>\n",
       "    <tr>\n",
       "      <th>193</th>\n",
       "      <td>Mala Osojnica</td>\n",
       "      <td>2</td>\n",
       "      <td>0</td>\n",
       "    </tr>\n",
       "    <tr>\n",
       "      <th>190</th>\n",
       "      <td>Mala Boka</td>\n",
       "      <td>1</td>\n",
       "      <td>0</td>\n",
       "    </tr>\n",
       "    <tr>\n",
       "      <th>550</th>\n",
       "      <td>Žrd / Sart</td>\n",
       "      <td>2</td>\n",
       "      <td>0</td>\n",
       "    </tr>\n",
       "  </tbody>\n",
       "</table>\n",
       "<p>551 rows × 3 columns</p>\n",
       "</div>"
      ],
      "text/plain": [
       "                  ime  stevilo_poti  stevilo_gps_sledi\n",
       "428           Triglav            27                  6\n",
       "163               Krn            12                  5\n",
       "425              Tosc             5                  4\n",
       "5    Bavški Grintavec             3                  4\n",
       "96            Jalovec            10                  4\n",
       "..                ...           ...                ...\n",
       "195       Mala Rodica             2                  0\n",
       "194        Mala Ponca             3                  0\n",
       "193     Mala Osojnica             2                  0\n",
       "190         Mala Boka             1                  0\n",
       "550        Žrd / Sart             2                  0\n",
       "\n",
       "[551 rows x 3 columns]"
      ]
     },
     "execution_count": 24,
     "metadata": {},
     "output_type": "execute_result"
    }
   ],
   "source": [
    "hribi_poti_gps = hribi[[\"ime\", \"stevilo_poti\", \"stevilo_gps_sledi\"]]\n",
    "hribi_poti_gps.sort_values(\"stevilo_gps_sledi\", ascending=False)"
   ]
  },
  {
   "cell_type": "code",
   "execution_count": 25,
   "metadata": {},
   "outputs": [
    {
     "data": {
      "text/plain": [
       "<AxesSubplot:xlabel='stevilo_poti', ylabel='stevilo_gps_sledi'>"
      ]
     },
     "execution_count": 25,
     "metadata": {},
     "output_type": "execute_result"
    },
    {
     "data": {
      "image/png": "[encoded data removed]",
      "text/plain": [
       "<Figure size 432x288 with 1 Axes>"
      ]
     },
     "metadata": {
      "needs_background": "light"
     },
     "output_type": "display_data"
    }
   ],
   "source": [
    "hribi.plot.scatter(x = \"stevilo_poti\", y = \"stevilo_gps_sledi\")"
   ]
  },
  {
   "cell_type": "markdown",
   "metadata": {},
   "source": [
    "Število GPS sledi torej ni odvisno od števila poti do hriba."
   ]
  },
  {
   "cell_type": "markdown",
   "metadata": {},
   "source": [
    "#### Hipoteza 8: Vrhovi z večjim številom vpisov imajo tudi večje število slik"
   ]
  },
  {
   "cell_type": "code",
   "execution_count": 26,
   "metadata": {},
   "outputs": [
    {
     "data": {
      "text/plain": [
       "<AxesSubplot:xlabel='stevilo_vpisov_v_vpisni_knjigi', ylabel='stevilo_slik'>"
      ]
     },
     "execution_count": 26,
     "metadata": {},
     "output_type": "execute_result"
    },
    {
     "data": {
      "image/png": "[encoded data removed]",
      "text/plain": [
       "<Figure size 432x288 with 1 Axes>"
      ]
     },
     "metadata": {
      "needs_background": "light"
     },
     "output_type": "display_data"
    }
   ],
   "source": [
    "hribi.plot.scatter(x = \"stevilo_vpisov_v_vpisni_knjigi\", y = \"stevilo_slik\")"
   ]
  },
  {
   "cell_type": "markdown",
   "metadata": {},
   "source": [
    "Število slik za hrib torej tudi ni odvisno od število vpisov v vpisni knjigi."
   ]
  },
  {
   "cell_type": "markdown",
   "metadata": {},
   "source": [
    "#### Kolikšno je povprečna višina, število ogledov, mesto priljubljenosti, število slik, število poti, število gps sledi in število vpisov v vpisni knjigi v Julijskih Alpah?"
   ]
  },
  {
   "cell_type": "code",
   "execution_count": 27,
   "metadata": {},
   "outputs": [
    {
     "data": {
      "text/plain": [
       "visina                              1642.929220\n",
       "ogledi                            338801.923775\n",
       "mesto_priljubljenosti                938.333938\n",
       "stevilo_slik                           6.332123\n",
       "stevilo_poti                           2.791289\n",
       "stevilo_gps_sledi                      0.217786\n",
       "stevilo_vpisov_v_vpisni_knjigi         1.166969\n",
       "dtype: float64"
      ]
     },
     "execution_count": 27,
     "metadata": {},
     "output_type": "execute_result"
    }
   ],
   "source": [
    "hribi.mean()"
   ]
  },
  {
   "cell_type": "markdown",
   "metadata": {},
   "source": [
    "Povprečna višina v Julijskih Alpah je 1643 metre, povprečno število ogledov je 333 802, mesto priljubljenosti pa 938. Povprečje slik za vsak hrib je 6, število poti 2, število gps sledi 0, število vpisov v vpisni knjigi pa 1."
   ]
  },
  {
   "cell_type": "markdown",
   "metadata": {},
   "source": [
    "## Zaključek"
   ]
  },
  {
   "cell_type": "markdown",
   "metadata": {},
   "source": [
    "Mesto priljubljenosti hriba ni odvisno od njegove višine, je pa odvisno od števila ogledov. Višji vrhovi nimajo večjega števila poti ali večjega števila vpisov v vpisno knjigo. Pod vrsto se največkrat pojavi vrh. Hribi z višjim mestom priljubljenosti povprečno nimajo več slik, prav tako tudi ne vrhovi z večjim številom vpisov v vpisno knjigo. Hribi z večjim številom poti nimajo večjega števila slik. Povprečna višina v Julijskih Alpah je 1643 metre, povprečno število ogledov je 333 801, mesto priljubljenosti pa 938. Povprečje slik za vsak hrib je 6, število poti 2, število gps sledi 0, število vpisov v vpisni knjigi pa 1."
   ]
  },
  {
   "cell_type": "code",
   "execution_count": null,
   "metadata": {},
   "outputs": [],
   "source": []
  }
 ],
 "metadata": {
  "kernelspec": {
   "display_name": "Python 3",
   "language": "python",
   "name": "python3"
  },
  "language_info": {
   "codemirror_mode": {
    "name": "ipython",
    "version": 3
   },
   "file_extension": ".py",
   "mimetype": "text/x-python",
   "name": "python",
   "nbconvert_exporter": "python",
   "pygments_lexer": "ipython3",
   "version": "3.8.6"
  }
 },
 "nbformat": 4,
 "nbformat_minor": 4
}
